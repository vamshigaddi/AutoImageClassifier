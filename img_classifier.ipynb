{
 "cells": [
  {
   "cell_type": "code",
   "execution_count": null,
   "id": "6965ee51-33b3-48d7-b090-2774d6002a7a",
   "metadata": {},
   "outputs": [],
   "source": []
  },
  {
   "cell_type": "code",
   "execution_count": null,
   "id": "bed913db-b2f7-4c66-9a30-f29ad865c183",
   "metadata": {},
   "outputs": [
    {
     "name": "stdin",
     "output_type": "stream",
     "text": [
      "Enter the path to your data folder:  flower_pics\n",
      "Do you want to use default values? (yes/no):  yes\n"
     ]
    },
    {
     "name": "stdout",
     "output_type": "stream",
     "text": [
      "Files copied successfully!\n"
     ]
    },
    {
     "name": "stdin",
     "output_type": "stream",
     "text": [
      "Do you want to start training? (yes/no):  yes\n"
     ]
    },
    {
     "name": "stdout",
     "output_type": "stream",
     "text": [
      "New https://pypi.org/project/ultralytics/8.2.11 available  Update with 'pip install -U ultralytics'\n",
      "Ultralytics YOLOv8.2.1  Python-3.11.7 torch-2.2.2+cpu CPU (11th Gen Intel Core(TM) i5-1135G7 2.40GHz)\n",
      "\u001b[34m\u001b[1mengine\\trainer: \u001b[0mtask=classify, mode=train, model=yolov8n-cls.pt, data=updated_folder, epochs=1, time=None, patience=100, batch=16, imgsz=224, save=True, save_period=-1, cache=False, device=None, workers=8, project=None, name=train, exist_ok=False, pretrained=True, optimizer=auto, verbose=True, seed=0, deterministic=True, single_cls=False, rect=False, cos_lr=False, close_mosaic=10, resume=False, amp=True, fraction=1.0, profile=False, freeze=None, multi_scale=False, overlap_mask=True, mask_ratio=4, dropout=0.0, val=True, split=val, save_json=False, save_hybrid=False, conf=None, iou=0.7, max_det=300, half=False, dnn=False, plots=True, source=None, vid_stride=1, stream_buffer=False, visualize=False, augment=False, agnostic_nms=False, classes=None, retina_masks=False, embed=None, show=False, save_frames=False, save_txt=False, save_conf=False, save_crop=False, show_labels=True, show_conf=True, show_boxes=True, line_width=None, format=torchscript, keras=False, optimize=False, int8=False, dynamic=False, simplify=False, opset=None, workspace=4, nms=False, lr0=0.01, lrf=0.01, momentum=0.937, weight_decay=0.0005, warmup_epochs=3.0, warmup_momentum=0.8, warmup_bias_lr=0.1, box=7.5, cls=0.5, dfl=1.5, pose=12.0, kobj=1.0, label_smoothing=0.0, nbs=64, hsv_h=0.015, hsv_s=0.7, hsv_v=0.4, degrees=0.0, translate=0.1, scale=0.5, shear=0.0, perspective=0.0, flipud=0.0, fliplr=0.5, bgr=0.0, mosaic=1.0, mixup=0.0, copy_paste=0.0, auto_augment=randaugment, erasing=0.4, crop_fraction=1.0, cfg=None, tracker=botsort.yaml, save_dir=runs\\classify\\train\n",
      "\u001b[34m\u001b[1mtrain:\u001b[0m C:\\Users\\vamsh\\VAMSHI_DA\\ML\\Deep learning\\Transfer Learning\\updated_folder\\train... found 1736 images in 3 classes  \n",
      "\u001b[34m\u001b[1mval:\u001b[0m C:\\Users\\vamsh\\VAMSHI_DA\\ML\\Deep learning\\Transfer Learning\\updated_folder\\val... found 219 images in 3 classes  \n",
      "\u001b[34m\u001b[1mtest:\u001b[0m C:\\Users\\vamsh\\VAMSHI_DA\\ML\\Deep learning\\Transfer Learning\\updated_folder\\test... found 217 images in 3 classes  \n",
      "Overriding model.yaml nc=1000 with nc=3\n",
      "\n",
      "                   from  n    params  module                                       arguments                     \n",
      "  0                  -1  1       464  ultralytics.nn.modules.conv.Conv             [3, 16, 3, 2]                 \n",
      "  1                  -1  1      4672  ultralytics.nn.modules.conv.Conv             [16, 32, 3, 2]                \n",
      "  2                  -1  1      7360  ultralytics.nn.modules.block.C2f             [32, 32, 1, True]             \n",
      "  3                  -1  1     18560  ultralytics.nn.modules.conv.Conv             [32, 64, 3, 2]                \n",
      "  4                  -1  2     49664  ultralytics.nn.modules.block.C2f             [64, 64, 2, True]             \n",
      "  5                  -1  1     73984  ultralytics.nn.modules.conv.Conv             [64, 128, 3, 2]               \n",
      "  6                  -1  2    197632  ultralytics.nn.modules.block.C2f             [128, 128, 2, True]           \n",
      "  7                  -1  1    295424  ultralytics.nn.modules.conv.Conv             [128, 256, 3, 2]              \n",
      "  8                  -1  1    460288  ultralytics.nn.modules.block.C2f             [256, 256, 1, True]           \n",
      "  9                  -1  1    334083  ultralytics.nn.modules.head.Classify         [256, 3]                      \n",
      "YOLOv8n-cls summary: 99 layers, 1442131 parameters, 1442131 gradients, 3.4 GFLOPs\n",
      "Transferred 156/158 items from pretrained weights\n"
     ]
    },
    {
     "name": "stderr",
     "output_type": "stream",
     "text": [
      "\u001b[34m\u001b[1mtrain: \u001b[0mScanning C:\\Users\\vamsh\\VAMSHI_DA\\ML\\Deep learning\\Transfer Learning\\updated_folder\\train... 1736 images, 0 corr\u001b[0m\n"
     ]
    },
    {
     "name": "stdout",
     "output_type": "stream",
     "text": [
      "\u001b[34m\u001b[1mtrain: \u001b[0mNew cache created: C:\\Users\\vamsh\\VAMSHI_DA\\ML\\Deep learning\\Transfer Learning\\updated_folder\\train.cache\n"
     ]
    },
    {
     "name": "stderr",
     "output_type": "stream",
     "text": [
      "\u001b[34m\u001b[1mval: \u001b[0mScanning C:\\Users\\vamsh\\VAMSHI_DA\\ML\\Deep learning\\Transfer Learning\\updated_folder\\val... 219 images, 0 corrupt: \u001b[0m"
     ]
    },
    {
     "name": "stdout",
     "output_type": "stream",
     "text": [
      "\u001b[34m\u001b[1mval: \u001b[0mNew cache created: C:\\Users\\vamsh\\VAMSHI_DA\\ML\\Deep learning\\Transfer Learning\\updated_folder\\val.cache\n",
      "\u001b[34m\u001b[1moptimizer:\u001b[0m 'optimizer=auto' found, ignoring 'lr0=0.01' and 'momentum=0.937' and determining best 'optimizer', 'lr0' and 'momentum' automatically... \n",
      "\u001b[34m\u001b[1moptimizer:\u001b[0m AdamW(lr=0.000714, momentum=0.9) with parameter groups 26 weight(decay=0.0), 27 weight(decay=0.0005), 27 bias(decay=0.0)\n",
      "Image sizes 224 train, 224 val\n",
      "Using 0 dataloader workers\n",
      "Logging results to \u001b[1mruns\\classify\\train\u001b[0m\n",
      "Starting training for 1 epochs...\n",
      "\n",
      "      Epoch    GPU_mem       loss  Instances       Size\n"
     ]
    },
    {
     "name": "stderr",
     "output_type": "stream",
     "text": [
      "\n",
      "        1/1         0G      0.755          8        224: 100%|██████████| 109/109 [01:07<00:00,  1.62it/s]\n",
      "               classes   top1_acc   top5_acc: 100%|██████████| 7/7 [00:04<00:00,  1.73it/s]\n"
     ]
    }
   ],
   "source": [
    "\n",
    "import os\n",
    "import shutil\n",
    "import random\n",
    "import json\n",
    "from ultralytics import YOLO\n",
    "from dataset_info_script import calculate_dataset_info\n",
    "from create_split_folder import create_split_folders\n",
    "\n",
    "def train_and_validate_yolo(data_path, epochs=5, imgsz=224, lr0=0.01, batch_size=16):\n",
    "    # Load a model\n",
    "    model = YOLO('yolov8n-cls.pt')  # load a pretrained model (recommended for training)\n",
    "\n",
    "    # Train the model\n",
    "    results_train = model.train(data=data_path, epochs=epochs, imgsz=imgsz, batch=batch_size, lr0=lr0)\n",
    "\n",
    "    # Validate the model\n",
    "    results_test = model.val(data=data_path, split='test', epochs=epochs, imgsz=imgsz, batch=batch_size)\n",
    "\n",
    "    num_classes, class_names, train_images, test_images, val_images = calculate_dataset_info(updated_folder_path)\n",
    "\n",
    "    output_dict = {\n",
    "        \"epochs\": epochs,\n",
    "        \"learning_rate\": lr0,\n",
    "        \"batch_size\": batch_size,\n",
    "        \"train_accuracy\": results_train.top1,\n",
    "        \"test_accuracy\": results_test.top1,\n",
    "        \"num_classes\": len(set(class_names)),\n",
    "        \"class_names\": list(set(class_names)),\n",
    "        'total_images':(train_images+test_images+val_images),\n",
    "        \"train_dataset_images\": train_images,\n",
    "        \"test_dataset_images\": test_images,\n",
    "        \"valid_dataset_images\": val_images\n",
    "    }\n",
    "    # Convert dict to JSON and print\n",
    "    output_json = json.dumps(output_dict, indent=4)\n",
    "    print(output_json)\n",
    "    current_directory = os.getcwd()\n",
    "\n",
    "    # Define the file name\n",
    "    output_file_name = \"output.json\"\n",
    "\n",
    "    # Join the current directory with the file name to create the file path\n",
    "    output_file_path = os.path.join(current_directory, output_file_name)\n",
    "    with open(output_file_path, \"w\") as output_file:\n",
    "      output_file.write(output_json)\n",
    "    print(\"JSON file saved successfully at:\", output_file_path)\n",
    "    return results_train, results_test\n",
    "\n",
    "# Ask user for input\n",
    "#data_folder_path = input(\"Enter the path to your data folder: \")\n",
    "#epochs_input = int(input(\"Enter the number of epochs: \"))\n",
    "#learning_rate_input = float(input(\"Enter the learning rate: \"))\n",
    "#batch_size_input = int(input(\"Enter the batch size: \"))\n",
    "\n",
    "# Ask user for input\n",
    "try:\n",
    "    data_folder_path = input(\"Enter the path to your data folder: \")\n",
    "    use_default = input(\"Do you want to use default values? (yes/no): \").strip().lower()\n",
    "    if use_default == \"yes\":\n",
    "        epochs_input = 1\n",
    "        learning_rate_input = 0.01\n",
    "        batch_size_input = 16\n",
    "    elif use_default == \"no\":\n",
    "        #data_folder_path = input(\"Enter the path to your data folder: \").strip()\n",
    "        epochs_input = int(input(\"Enter the number of epochs: \").strip())\n",
    "        learning_rate_input = float(input(\"Enter the learning rate: \").strip())\n",
    "        batch_size_input = int(input(\"Enter the batch size: \").strip())\n",
    "    else:\n",
    "        print(\"Invalid input. Please enter 'yes' or 'no'.\")\n",
    "        exit()\n",
    "    \n",
    "    if epochs_input <= 0:\n",
    "        print(\"Number of epochs must be a positive integer. Using default value instead.\")\n",
    "        epochs_input = 1\n",
    "    \n",
    "    if learning_rate_input <= 0:\n",
    "        print(\"Learning rate must be a positive float. Using default value instead.\")\n",
    "        learning_rate_input = 0.01\n",
    "    \n",
    "    if batch_size_input <= 0:\n",
    "        print(\"Batch size must be a positive integer. Using default value instead.\")\n",
    "        batch_size_input = 16\n",
    "    \n",
    "except ValueError as ve:\n",
    "    print(f\"Error: {ve}\")\n",
    "    print(\"Using default values instead.\")\n",
    "    epochs_input = 1\n",
    "    learning_rate_input = 0.01\n",
    "    batch_size_input = 16\n",
    "\n",
    "\n",
    "# Rest of the code remains the same\n",
    "\n",
    "# Create split folders\n",
    "# Get the current working directory\n",
    "current_directory = os.getcwd()\n",
    "\n",
    "# Define the folder name\n",
    "updated_folder_path = \"updated_folder\"\n",
    "#updated_folder_path = \"/content/updated_folder\"  # Destination folder path\n",
    "create_split_folders(data_folder_path, updated_folder_path)\n",
    "\n",
    "# Train and validate YOLO model\n",
    "start_training = input(\"Do you want to start training? (yes/no): \")\n",
    "if start_training.lower() == \"yes\":\n",
    "    train_results, val_results = train_and_validate_yolo(updated_folder_path, epochs=epochs_input, lr0=learning_rate_input, batch_size=batch_size_input)\n",
    "    print(\"Training and validation completed successfully!\")\n",
    "else:\n",
    "    print(\"Training aborted.\")"
   ]
  },
  {
   "cell_type": "code",
   "execution_count": null,
   "id": "3f06754c-66b1-4eef-a008-9a8f647aed5c",
   "metadata": {},
   "outputs": [],
   "source": []
  },
  {
   "cell_type": "code",
   "execution_count": null,
   "id": "3084c079-101e-4658-a6ed-29008360661b",
   "metadata": {},
   "outputs": [],
   "source": []
  },
  {
   "cell_type": "code",
   "execution_count": null,
   "id": "3293d638-cb5b-4c66-9b13-3e8d35344120",
   "metadata": {},
   "outputs": [],
   "source": []
  },
  {
   "cell_type": "code",
   "execution_count": null,
   "id": "b007e27d-bfda-4d0d-9093-d1912b8fc5cd",
   "metadata": {},
   "outputs": [],
   "source": []
  },
  {
   "cell_type": "code",
   "execution_count": null,
   "id": "739a4df2-91b8-4de1-8924-be92029c89eb",
   "metadata": {},
   "outputs": [],
   "source": []
  },
  {
   "cell_type": "code",
   "execution_count": null,
   "id": "571a69a4-9ca7-4759-a572-883ab4bcf97c",
   "metadata": {},
   "outputs": [],
   "source": []
  },
  {
   "cell_type": "code",
   "execution_count": null,
   "id": "76728bb1-f727-4016-aa73-c9e2bdcd67b5",
   "metadata": {},
   "outputs": [],
   "source": []
  },
  {
   "cell_type": "code",
   "execution_count": null,
   "id": "ea3f7dee-977c-4764-9b30-8072ec90fb05",
   "metadata": {},
   "outputs": [],
   "source": []
  },
  {
   "cell_type": "code",
   "execution_count": null,
   "id": "ac975b71-782c-4168-b6dc-90db55044013",
   "metadata": {},
   "outputs": [],
   "source": []
  },
  {
   "cell_type": "code",
   "execution_count": null,
   "id": "177c99cb-08b6-47b7-91b8-8e035da4566b",
   "metadata": {},
   "outputs": [],
   "source": []
  },
  {
   "cell_type": "code",
   "execution_count": null,
   "id": "6bc2e2ad-d520-4cf1-9117-3f7b3ff1c38d",
   "metadata": {},
   "outputs": [],
   "source": []
  },
  {
   "cell_type": "code",
   "execution_count": null,
   "id": "26c3205d-34e5-4518-bd7b-e6abf26c25c3",
   "metadata": {},
   "outputs": [],
   "source": []
  },
  {
   "cell_type": "code",
   "execution_count": 1,
   "id": "9e610e75-ea69-4944-9531-b4f5be572ea5",
   "metadata": {},
   "outputs": [
    {
     "name": "stdout",
     "output_type": "stream",
     "text": [
      "Writing create_split_folder.py\n"
     ]
    }
   ],
   "source": [
    "%%writefile create_split_folder.py\n",
    "import os\n",
    "import shutil\n",
    "import random\n",
    "\n",
    "\n",
    "def create_split_folders(input_folder, destination_folder, split_folders=[\"train\", \"test\", \"val\"], train_ratio=0.8, test_ratio=0.1):\n",
    "    # Create the destination folder if it doesn't exist\n",
    "    if not os.path.exists(destination_folder):\n",
    "        os.makedirs(destination_folder)\n",
    "    else:\n",
    "        # Clear the destination folder to overwrite it\n",
    "        shutil.rmtree(destination_folder)\n",
    "        os.makedirs(destination_folder)\n",
    "\n",
    "    # Check if split folders already exist, if not, create them\n",
    "    for folder in split_folders:\n",
    "        folder_path = os.path.join(destination_folder, folder)\n",
    "        if not os.path.exists(folder_path):\n",
    "            os.makedirs(folder_path)\n",
    "        else:\n",
    "            print(f\"{folder_path} already exists.\")\n",
    "\n",
    "    # Function to copy files to train, test, and validation folders\n",
    "    def copy_files(source_folder, destination_folder, split_ratio):\n",
    "        for class_folder in os.listdir(source_folder):\n",
    "            class_folder_path = os.path.join(source_folder, class_folder)\n",
    "            if os.path.isdir(class_folder_path):\n",
    "                files = os.listdir(class_folder_path)\n",
    "                random.shuffle(files)\n",
    "                split_index_train = int(len(files) * train_ratio)\n",
    "                split_index_test = int(len(files) * (train_ratio + test_ratio))\n",
    "                train_files = files[:split_index_train]\n",
    "                test_files = files[split_index_train:split_index_test]\n",
    "                val_files = files[split_index_test:]\n",
    "\n",
    "                # Copy files to train folder\n",
    "                train_folder_path = os.path.join(destination_folder, \"train\", class_folder)\n",
    "                os.makedirs(train_folder_path)  # Create folder even if it exists to overwrite it\n",
    "                for file in train_files:\n",
    "                    shutil.copy(os.path.join(class_folder_path, file), train_folder_path)\n",
    "\n",
    "                # Copy files to test folder\n",
    "                test_folder_path = os.path.join(destination_folder, \"test\", class_folder)\n",
    "                os.makedirs(test_folder_path)  # Create folder even if it exists to overwrite it\n",
    "                for file in test_files:\n",
    "                    shutil.copy(os.path.join(class_folder_path, file), test_folder_path)\n",
    "\n",
    "                # Copy files to validation folder\n",
    "                val_folder_path = os.path.join(destination_folder, \"val\", class_folder)\n",
    "                os.makedirs(val_folder_path)  # Create folder even if it exists to overwrite it\n",
    "                for file in val_files:\n",
    "                    shutil.copy(os.path.join(class_folder_path, file), val_folder_path)\n",
    "\n",
    "    # Copy files to train, test, and validation folders\n",
    "    copy_files(input_folder, destination_folder, train_ratio)\n",
    "\n",
    "    print(\"Files copied successfully!\")\n",
    "\n",
    "\n",
    "# Example usage\n",
    "#create_split_folders(\"/content/flower_pics\", \"output_data\")\n"
   ]
  },
  {
   "cell_type": "code",
   "execution_count": null,
   "id": "d407ded3-9a4c-4d1a-83e1-58b21f39448a",
   "metadata": {},
   "outputs": [],
   "source": []
  },
  {
   "cell_type": "code",
   "execution_count": null,
   "id": "498ebe03-3fb5-478f-9e2c-44dabaf7d54c",
   "metadata": {},
   "outputs": [],
   "source": []
  },
  {
   "cell_type": "code",
   "execution_count": null,
   "id": "f85d7132-4ebd-4b6a-81df-c915114e136e",
   "metadata": {},
   "outputs": [],
   "source": []
  },
  {
   "cell_type": "code",
   "execution_count": null,
   "id": "3ab12930-afd3-4364-928b-eda995788510",
   "metadata": {},
   "outputs": [],
   "source": []
  },
  {
   "cell_type": "code",
   "execution_count": null,
   "id": "cc98b20b-6b20-41f1-b999-31f18dbfa784",
   "metadata": {},
   "outputs": [],
   "source": []
  },
  {
   "cell_type": "code",
   "execution_count": null,
   "id": "9820ea9e-3c6a-45a6-9d8f-18751a160a71",
   "metadata": {},
   "outputs": [],
   "source": []
  }
 ],
 "metadata": {
  "kernelspec": {
   "display_name": "Python 3 (ipykernel)",
   "language": "python",
   "name": "python3"
  },
  "language_info": {
   "codemirror_mode": {
    "name": "ipython",
    "version": 3
   },
   "file_extension": ".py",
   "mimetype": "text/x-python",
   "name": "python",
   "nbconvert_exporter": "python",
   "pygments_lexer": "ipython3",
   "version": "3.11.7"
  }
 },
 "nbformat": 4,
 "nbformat_minor": 5
}
